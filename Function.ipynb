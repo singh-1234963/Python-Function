{
 "cells": [
  {
   "cell_type": "code",
   "execution_count": null,
   "id": "d0d39662-a60a-491e-9d82-b52fbe2b5766",
   "metadata": {},
   "outputs": [],
   "source": [
    "#Q1\n",
    "def sum_of_even_numbers(numbers):\n",
    "    total = 0\n",
    "    for num in numbers:\n",
    "        if num % 2 == 0:  \n",
    "            total += num\n",
    "    return total\n",
    "\n",
    "\n",
    "nums = [1, 2, 3, 4, 5, 6]\n",
    "print(\"Sum of even numbers:\", sum_of_even_numbers(nums))\n"
   ]
  },
  {
   "cell_type": "code",
   "execution_count": 72,
   "id": "afae859b-ce4d-423e-a4b2-0024163a5c16",
   "metadata": {},
   "outputs": [
    {
     "name": "stdout",
     "output_type": "stream",
     "text": [
      "Squares: [1, 4, 9, 16, 25, 36, 49, 64]\n"
     ]
    }
   ],
   "source": [
    "#Q3\n",
    "def square_list(n):\n",
    "    squared = []\n",
    "    for i in n:\n",
    "        squared.append(i**2)\n",
    "    return squared\n",
    "nums = [1,2,3,4,5,6]\n",
    "print(\"Squares:\",square_list(n))\n",
    "\n"
   ]
  },
  {
   "cell_type": "code",
   "execution_count": 73,
   "id": "5832f77e-bffd-4b61-a4cd-14b8855a9d94",
   "metadata": {},
   "outputs": [],
   "source": [
    "#Q5\n",
    "def fib(n):\n",
    "    a=0\n",
    "    b=1\n",
    "    for i in range(n):\n",
    "        yield a\n",
    "        a,b=b,a+b\n",
    "        \n",
    "    \n",
    "       "
   ]
  },
  {
   "cell_type": "code",
   "execution_count": 61,
   "id": "a41aee1c-624d-48ac-8ab7-e8fdaecbd58d",
   "metadata": {},
   "outputs": [
    {
     "data": {
      "text/plain": [
       "<generator object fib at 0x0000017A567F9540>"
      ]
     },
     "execution_count": 61,
     "metadata": {},
     "output_type": "execute_result"
    }
   ],
   "source": [
    "fib(5)"
   ]
  },
  {
   "cell_type": "code",
   "execution_count": 65,
   "id": "83224461-e65c-4465-8625-86526f1a30e7",
   "metadata": {},
   "outputs": [],
   "source": [
    "s=iter(fib(5))\n"
   ]
  },
  {
   "cell_type": "code",
   "execution_count": 66,
   "id": "80c48375-7b31-42dd-acf4-3055ec391ef5",
   "metadata": {},
   "outputs": [
    {
     "data": {
      "text/plain": [
       "0"
      ]
     },
     "execution_count": 66,
     "metadata": {},
     "output_type": "execute_result"
    }
   ],
   "source": [
    "next(s)"
   ]
  },
  {
   "cell_type": "code",
   "execution_count": 67,
   "id": "4e89a047-b3c2-4b41-8a68-c07acd0f9a55",
   "metadata": {},
   "outputs": [
    {
     "data": {
      "text/plain": [
       "1"
      ]
     },
     "execution_count": 67,
     "metadata": {},
     "output_type": "execute_result"
    }
   ],
   "source": [
    "next(s)"
   ]
  },
  {
   "cell_type": "code",
   "execution_count": 68,
   "id": "2c53a82a-1dbe-4757-9dbc-343f79ba4a24",
   "metadata": {},
   "outputs": [
    {
     "data": {
      "text/plain": [
       "1"
      ]
     },
     "execution_count": 68,
     "metadata": {},
     "output_type": "execute_result"
    }
   ],
   "source": [
    "next(s)"
   ]
  },
  {
   "cell_type": "code",
   "execution_count": 69,
   "id": "b7d31b16-6e71-4d21-8bd0-2d1bfb39eaa2",
   "metadata": {},
   "outputs": [
    {
     "data": {
      "text/plain": [
       "2"
      ]
     },
     "execution_count": 69,
     "metadata": {},
     "output_type": "execute_result"
    }
   ],
   "source": [
    "next(s)"
   ]
  },
  {
   "cell_type": "code",
   "execution_count": 70,
   "id": "38ac16b8-a396-413d-b1dd-9fa7f8d0fcb8",
   "metadata": {},
   "outputs": [
    {
     "data": {
      "text/plain": [
       "3"
      ]
     },
     "execution_count": 70,
     "metadata": {},
     "output_type": "execute_result"
    }
   ],
   "source": [
    "next(s)"
   ]
  },
  {
   "cell_type": "code",
   "execution_count": 95,
   "id": "1fdc4a3d-4da0-4c8f-a6f5-31c2ad96ee19",
   "metadata": {},
   "outputs": [
    {
     "name": "stdout",
     "output_type": "stream",
     "text": [
      "1\n",
      "2\n",
      "4\n",
      "8\n",
      "16\n",
      "32\n",
      "64\n",
      "128\n",
      "256\n",
      "512\n",
      "1024\n"
     ]
    }
   ],
   "source": [
    "#Q6\n",
    "def powers_of_two(n):\n",
    "    for i in range(n + 1):\n",
    "        yield 2 ** i\n",
    "for value in powers_of_two(10):  \n",
    "    print(value)\n",
    "    \n",
    "\n",
    "    \n",
    "    \n",
    "    \n",
    "\n",
    "        \n",
    "\n"
   ]
  },
  {
   "cell_type": "code",
   "execution_count": 91,
   "id": "ed39d71a-bcb7-4f13-b5df-a2d775b81e95",
   "metadata": {},
   "outputs": [
    {
     "name": "stdout",
     "output_type": "stream",
     "text": [
      "<generator object power at 0x0000017A56863850>\n"
     ]
    }
   ],
   "source": [
    "print(power(2))"
   ]
  },
  {
   "cell_type": "code",
   "execution_count": 94,
   "id": "296ea74a-c056-4d9b-9dd4-a38eca742d1a",
   "metadata": {},
   "outputs": [
    {
     "name": "stdout",
     "output_type": "stream",
     "text": [
      "[(3, 1), (2, 3), (1, 5), (4, 6)]\n"
     ]
    }
   ],
   "source": [
    "#Q8.\n",
    "\n",
    "data = [(1, 5), (3, 1), (4, 6), (2, 3)]\n",
    "\n",
    "\n",
    "sorted_data = sorted(data, key=lambda x: x[1])\n",
    "\n",
    "print(sorted_data)\n"
   ]
  },
  {
   "cell_type": "code",
   "execution_count": null,
   "id": "6a636593-6d46-4d74-bc88-b3448fee6676",
   "metadata": {},
   "outputs": [],
   "source": [
    "#Theory Questions\n",
    "#1. Difference between a Function and a Method in Python\n",
    "\n",
    "Function: A block of code defined with def or lambda that performs a task. It can exist independently.\n",
    "\n",
    "def greet(name):\n",
    "    return f\"Hello, {name}\"\n",
    "print(greet(\"Shubham\"))  \n",
    "\n",
    "\n",
    "Method: A function associated with an object/class. It operates on data belonging to that object.\n",
    "\n",
    "name = \"Shubham\"\n",
    "print(name.upper()) \n",
    "\n",
    "\n",
    " Key difference:\n",
    "\n",
    "Functions are independent.\n",
    "\n",
    "Methods are functions bound to objects.\n",
    "\n",
    "#2. Function Arguments and Parameters\n",
    "\n",
    "Parameter: A variable in the function definition.\n",
    "\n",
    "Argument: The actual value passed when calling the function.\n",
    "\n",
    "def add(a, b):  # a, b are parameters\n",
    "    return a + b\n",
    "\n",
    "print(add(3, 5))  # 3, 5 are arguments\n",
    "\n",
    "#3. Ways to Define and Call a Function in Python\n",
    "\n",
    "Standard function:\n",
    "\n",
    "def square(x):\n",
    "    return x * x\n",
    "print(square(5))\n",
    "\n",
    "\n",
    "Lambda function (anonymous):\n",
    "\n",
    "square = lambda x: x * x\n",
    "print(square(5))\n",
    "\n",
    "\n",
    "Built-in functions like len(), max().\n",
    "\n",
    "Calling with arguments:\n",
    "\n",
    "Positional: func(2, 3)\n",
    "\n",
    "Keyword: func(a=2, b=3)\n",
    "\n",
    "Default: def func(a, b=5):\n",
    "\n",
    "Variable args: *args, **kwargs\n",
    "\n",
    "#4. Purpose of return\n",
    "\n",
    "Sends a value back to the caller.\n",
    "\n",
    "Ends the function execution.\n",
    "\n",
    "def add(x, y):\n",
    "    return x + y\n",
    "\n",
    "print(add(10, 20))  # 30\n",
    "\n",
    "#5. Iterators vs Iterables\n",
    "\n",
    "Iterable: An object you can loop over (list, tuple, string).\n",
    "\n",
    "Iterator: An object with __iter__() and __next__() methods, used to fetch elements one by one.\n",
    "\n",
    "nums = [1, 2, 3]\n",
    "it = iter(nums)  \n",
    "print(next(it))  \n",
    "print(next(it))  \n",
    "\n",
    "\n",
    "\n",
    "#6. Generators\n",
    "\n",
    "Special type of iterator, defined with yield.\n",
    "\n",
    "They generate values lazily (on demand).\n",
    "\n",
    "def gen_nums():\n",
    "    for i in range(3):\n",
    "        yield i\n",
    "g = gen_nums()\n",
    "print(next(g))  # 0\n",
    "\n",
    "#7. Advantages of Generators\n",
    "\n",
    "Memory efficient (don’t store all values at once).\n",
    "\n",
    "Lazy evaluation (compute values only when needed).\n",
    "\n",
    "Used for large datasets, streams, infinite sequences.\n",
    "\n",
    "#8. Lambda Function\n",
    "\n",
    "An anonymous function using lambda keyword.\n",
    "\n",
    "Syntax: lambda arguments: expression\n",
    "\n",
    "Typically used in short, throwaway functions.\n",
    "\n",
    "square = lambda x: x**2\n",
    "print(square(4))  \n",
    "\n",
    "9. Purpose of map()\n",
    "\n",
    "Applies a function to each element of an iterable.\n",
    "\n",
    "nums = [1, 2, 3]\n",
    "squares = map(lambda x: x**2, nums)\n",
    "print(list(squares))  # [1, 4, 9]\n",
    "\n",
    "10. Difference Between map(), reduce(), and filter()\n",
    "\n",
    "map(func, iterable) → Applies a function to all items.\n",
    "\n",
    "filter(func, iterable) → Keeps only items where func returns True.\n",
    "\n",
    "reduce(func, iterable) → Reduces iterable to a single value (requires functools).\n",
    "\n",
    "Example:\n",
    "\n",
    "from functools import reduce\n",
    "nums = [1, 2, 3, 4]\n",
    "\n",
    "print(list(map(lambda x: x*2, nums)))     \n",
    "print(list(filter(lambda x: x%2==0, nums)))\n",
    "print(reduce(lambda x, y: x+y, nums))      \n",
    "\n",
    "11. Internal Mechanism of reduce() (Sum Example)\n",
    "\n",
    "Given list: [47, 11, 42, 13]\n",
    "\n",
    "reduce(func, [47, 11, 42, 13]) works like this:\n",
    "\n",
    "Step-by-step (pen & paper logic):\n",
    "\n",
    "Start with first two elements: 47 + 11 = 58\n",
    "\n",
    "Take result and next element: 58 + 42 = 100\n",
    "\n",
    "Take result and next element: 100 + 13 = 113\n",
    "\n",
    " Final Answer = 113\n",
    "\n",
    "Example in Python:\n",
    "\n",
    "from functools import reduce\n",
    "\n",
    "nums = [47, 11, 42, 13]\n",
    "result = reduce(lambda x, y: x + y, nums)\n",
    "print(result)  "
   ]
  }
 ],
 "metadata": {
  "kernelspec": {
   "display_name": "Python 3 (ipykernel)",
   "language": "python",
   "name": "python3"
  },
  "language_info": {
   "codemirror_mode": {
    "name": "ipython",
    "version": 3
   },
   "file_extension": ".py",
   "mimetype": "text/x-python",
   "name": "python",
   "nbconvert_exporter": "python",
   "pygments_lexer": "ipython3",
   "version": "3.13.5"
  }
 },
 "nbformat": 4,
 "nbformat_minor": 5
}
